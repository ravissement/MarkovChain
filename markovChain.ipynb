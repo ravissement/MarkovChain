{
 "cells": [
  {
   "cell_type": "code",
   "execution_count": 36,
   "id": "9749989c",
   "metadata": {},
   "outputs": [
    {
     "name": "stdout",
     "output_type": "stream",
     "text": [
      "['rain', 'sun', 'sun', 'sun', 'rain', 'sun', 'sun', 'sun', 'sun', 'rain', 'rain', 'rain', 'rain', 'rain', 'rain', 'rain', 'rain', 'rain', 'rain', 'sun', 'sun', 'sun', 'sun', 'sun', 'rain', 'rain', 'rain', 'sun', 'sun', 'rain', 'sun', 'rain', 'rain', 'rain', 'rain', 'rain', 'rain', 'rain', 'sun', 'sun', 'sun', 'sun', 'rain', 'rain', 'sun', 'sun', 'sun', 'sun', 'sun', 'sun']\n"
     ]
    }
   ],
   "source": [
    "from pomegranate import *\n",
    "\n",
    "# Define starting probabilities\n",
    "# we'll say it's sunny 50% the time, rainy 50% of the time.\n",
    "start = DiscreteDistribution({\n",
    "    \"sun\": 0.5,\n",
    "    \"rain\": 0.5\n",
    "})\n",
    "\n",
    "# Define transition model\n",
    "# How to move from one day to the next.\n",
    "# that if was sunny today. the with probability 0.8 \n",
    "# it will be sunny tomorrow, \n",
    "# and it will be raining tommorw with probability 0.2\n",
    "transitions = ConditionalProbabilityTable([\n",
    "    [\"sun\", \"sun\", 0.8],\n",
    "    [\"sun\", \"rain\", 0.2],\n",
    "    [\"rain\", \"sun\", 0.3],\n",
    "    [\"rain\", \"rain\", 0.7]\n",
    "], [start])\n",
    "\n",
    "# Create Markov chain\n",
    "model = MarkovChain([start, transitions])\n",
    "\n",
    "# Sample 50 states from chain\n",
    "# it's just going to randomly sample. \n",
    "# and you can imagine sampling many times to be able to get more data to be able to more analysis.\n",
    "print(model.sample(50))\n"
   ]
  },
  {
   "cell_type": "code",
   "execution_count": 32,
   "id": "2059f7a0",
   "metadata": {},
   "outputs": [],
   "source": [
    "# that follows the distribution of sunny days tend to more sunny days, \n",
    "# rainy days tend to lead to more rainy days. and that, then, is the markov model."
   ]
  },
  {
   "cell_type": "code",
   "execution_count": 33,
   "id": "407870bb",
   "metadata": {},
   "outputs": [],
   "source": []
  },
  {
   "cell_type": "code",
   "execution_count": 34,
   "id": "b8735987",
   "metadata": {},
   "outputs": [
    {
     "name": "stdout",
     "output_type": "stream",
     "text": [
      "13 37\n"
     ]
    }
   ],
   "source": []
  },
  {
   "cell_type": "code",
   "execution_count": null,
   "id": "00fe47f9",
   "metadata": {},
   "outputs": [],
   "source": []
  },
  {
   "cell_type": "code",
   "execution_count": null,
   "id": "228ef77d",
   "metadata": {},
   "outputs": [],
   "source": []
  }
 ],
 "metadata": {
  "kernelspec": {
   "display_name": "Python 3 (ipykernel)",
   "language": "python",
   "name": "python3"
  },
  "language_info": {
   "codemirror_mode": {
    "name": "ipython",
    "version": 3
   },
   "file_extension": ".py",
   "mimetype": "text/x-python",
   "name": "python",
   "nbconvert_exporter": "python",
   "pygments_lexer": "ipython3",
   "version": "3.9.7"
  }
 },
 "nbformat": 4,
 "nbformat_minor": 5
}
